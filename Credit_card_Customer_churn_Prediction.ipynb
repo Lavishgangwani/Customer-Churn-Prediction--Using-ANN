{
 "cells": [
  {
   "cell_type": "code",
   "execution_count": 1,
   "id": "75cd48e5-2f1f-4066-93f9-4e19f273df19",
   "metadata": {},
   "outputs": [
    {
     "name": "stdout",
     "output_type": "stream",
     "text": [
      "C:\\Users\\hp\\anaconda3\\envs\\cust\n",
      "C:\\Users\\hp\\anaconda3\\envs\\cust\\python.exe\n"
     ]
    }
   ],
   "source": [
    "import sys\n",
    "print(sys.prefix)\n",
    "print(sys.executable)"
   ]
  },
  {
   "cell_type": "code",
   "execution_count": 2,
   "id": "090a471e-d67c-4eaf-864e-a550172873ee",
   "metadata": {},
   "outputs": [],
   "source": [
    "import pandas as pd\n",
    "import numpy as np\n",
    "import matplotlib.pyplot as plt\n",
    "import seaborn as sns\n",
    "\n",
    "import warnings\n",
    "warnings.filterwarnings('ignore')\n",
    "\n",
    "import tensorflow \n",
    "from tensorflow import keras\n",
    "from tensorflow.keras import Sequential\n",
    "from tensorflow.keras.layers import Layer,Flatten,Dense"
   ]
  },
  {
   "cell_type": "markdown",
   "id": "71379621-d47a-4530-91fe-d158c5bd6549",
   "metadata": {},
   "source": [
    "### load the dataset"
   ]
  },
  {
   "cell_type": "code",
   "execution_count": 3,
   "id": "1809a810-be07-4b38-9723-59e54876a3a9",
   "metadata": {},
   "outputs": [
    {
     "data": {
      "text/html": [
       "<div>\n",
       "<style scoped>\n",
       "    .dataframe tbody tr th:only-of-type {\n",
       "        vertical-align: middle;\n",
       "    }\n",
       "\n",
       "    .dataframe tbody tr th {\n",
       "        vertical-align: top;\n",
       "    }\n",
       "\n",
       "    .dataframe thead th {\n",
       "        text-align: right;\n",
       "    }\n",
       "</style>\n",
       "<table border=\"1\" class=\"dataframe\">\n",
       "  <thead>\n",
       "    <tr style=\"text-align: right;\">\n",
       "      <th></th>\n",
       "      <th>RowNumber</th>\n",
       "      <th>CustomerId</th>\n",
       "      <th>Surname</th>\n",
       "      <th>CreditScore</th>\n",
       "      <th>Geography</th>\n",
       "      <th>Gender</th>\n",
       "      <th>Age</th>\n",
       "      <th>Tenure</th>\n",
       "      <th>Balance</th>\n",
       "      <th>NumOfProducts</th>\n",
       "      <th>HasCrCard</th>\n",
       "      <th>IsActiveMember</th>\n",
       "      <th>EstimatedSalary</th>\n",
       "      <th>Exited</th>\n",
       "    </tr>\n",
       "  </thead>\n",
       "  <tbody>\n",
       "    <tr>\n",
       "      <th>0</th>\n",
       "      <td>1</td>\n",
       "      <td>15634602</td>\n",
       "      <td>Hargrave</td>\n",
       "      <td>619</td>\n",
       "      <td>France</td>\n",
       "      <td>Female</td>\n",
       "      <td>42</td>\n",
       "      <td>2</td>\n",
       "      <td>0.00</td>\n",
       "      <td>1</td>\n",
       "      <td>1</td>\n",
       "      <td>1</td>\n",
       "      <td>101348.88</td>\n",
       "      <td>1</td>\n",
       "    </tr>\n",
       "    <tr>\n",
       "      <th>1</th>\n",
       "      <td>2</td>\n",
       "      <td>15647311</td>\n",
       "      <td>Hill</td>\n",
       "      <td>608</td>\n",
       "      <td>Spain</td>\n",
       "      <td>Female</td>\n",
       "      <td>41</td>\n",
       "      <td>1</td>\n",
       "      <td>83807.86</td>\n",
       "      <td>1</td>\n",
       "      <td>0</td>\n",
       "      <td>1</td>\n",
       "      <td>112542.58</td>\n",
       "      <td>0</td>\n",
       "    </tr>\n",
       "    <tr>\n",
       "      <th>2</th>\n",
       "      <td>3</td>\n",
       "      <td>15619304</td>\n",
       "      <td>Onio</td>\n",
       "      <td>502</td>\n",
       "      <td>France</td>\n",
       "      <td>Female</td>\n",
       "      <td>42</td>\n",
       "      <td>8</td>\n",
       "      <td>159660.80</td>\n",
       "      <td>3</td>\n",
       "      <td>1</td>\n",
       "      <td>0</td>\n",
       "      <td>113931.57</td>\n",
       "      <td>1</td>\n",
       "    </tr>\n",
       "    <tr>\n",
       "      <th>3</th>\n",
       "      <td>4</td>\n",
       "      <td>15701354</td>\n",
       "      <td>Boni</td>\n",
       "      <td>699</td>\n",
       "      <td>France</td>\n",
       "      <td>Female</td>\n",
       "      <td>39</td>\n",
       "      <td>1</td>\n",
       "      <td>0.00</td>\n",
       "      <td>2</td>\n",
       "      <td>0</td>\n",
       "      <td>0</td>\n",
       "      <td>93826.63</td>\n",
       "      <td>0</td>\n",
       "    </tr>\n",
       "    <tr>\n",
       "      <th>4</th>\n",
       "      <td>5</td>\n",
       "      <td>15737888</td>\n",
       "      <td>Mitchell</td>\n",
       "      <td>850</td>\n",
       "      <td>Spain</td>\n",
       "      <td>Female</td>\n",
       "      <td>43</td>\n",
       "      <td>2</td>\n",
       "      <td>125510.82</td>\n",
       "      <td>1</td>\n",
       "      <td>1</td>\n",
       "      <td>1</td>\n",
       "      <td>79084.10</td>\n",
       "      <td>0</td>\n",
       "    </tr>\n",
       "  </tbody>\n",
       "</table>\n",
       "</div>"
      ],
      "text/plain": [
       "   RowNumber  CustomerId   Surname  CreditScore Geography  Gender  Age  \\\n",
       "0          1    15634602  Hargrave          619    France  Female   42   \n",
       "1          2    15647311      Hill          608     Spain  Female   41   \n",
       "2          3    15619304      Onio          502    France  Female   42   \n",
       "3          4    15701354      Boni          699    France  Female   39   \n",
       "4          5    15737888  Mitchell          850     Spain  Female   43   \n",
       "\n",
       "   Tenure    Balance  NumOfProducts  HasCrCard  IsActiveMember  \\\n",
       "0       2       0.00              1          1               1   \n",
       "1       1   83807.86              1          0               1   \n",
       "2       8  159660.80              3          1               0   \n",
       "3       1       0.00              2          0               0   \n",
       "4       2  125510.82              1          1               1   \n",
       "\n",
       "   EstimatedSalary  Exited  \n",
       "0        101348.88       1  \n",
       "1        112542.58       0  \n",
       "2        113931.57       1  \n",
       "3         93826.63       0  \n",
       "4         79084.10       0  "
      ]
     },
     "execution_count": 3,
     "metadata": {},
     "output_type": "execute_result"
    }
   ],
   "source": [
    "df = pd.read_csv('Churn_Modelling.csv')\n",
    "df.head()"
   ]
  },
  {
   "cell_type": "code",
   "execution_count": 4,
   "id": "057b72b7-4f3c-40c0-acdc-6dc221b2bc2d",
   "metadata": {},
   "outputs": [
    {
     "data": {
      "text/plain": [
       "(10000, 14)"
      ]
     },
     "execution_count": 4,
     "metadata": {},
     "output_type": "execute_result"
    }
   ],
   "source": [
    "df.shape"
   ]
  },
  {
   "cell_type": "code",
   "execution_count": 5,
   "id": "1fcc6073-bad9-4203-98c2-b7966d8dfc03",
   "metadata": {},
   "outputs": [
    {
     "name": "stdout",
     "output_type": "stream",
     "text": [
      "<class 'pandas.core.frame.DataFrame'>\n",
      "RangeIndex: 10000 entries, 0 to 9999\n",
      "Data columns (total 14 columns):\n",
      " #   Column           Non-Null Count  Dtype  \n",
      "---  ------           --------------  -----  \n",
      " 0   RowNumber        10000 non-null  int64  \n",
      " 1   CustomerId       10000 non-null  int64  \n",
      " 2   Surname          10000 non-null  object \n",
      " 3   CreditScore      10000 non-null  int64  \n",
      " 4   Geography        10000 non-null  object \n",
      " 5   Gender           10000 non-null  object \n",
      " 6   Age              10000 non-null  int64  \n",
      " 7   Tenure           10000 non-null  int64  \n",
      " 8   Balance          10000 non-null  float64\n",
      " 9   NumOfProducts    10000 non-null  int64  \n",
      " 10  HasCrCard        10000 non-null  int64  \n",
      " 11  IsActiveMember   10000 non-null  int64  \n",
      " 12  EstimatedSalary  10000 non-null  float64\n",
      " 13  Exited           10000 non-null  int64  \n",
      "dtypes: float64(2), int64(9), object(3)\n",
      "memory usage: 1.1+ MB\n"
     ]
    }
   ],
   "source": [
    "df.info()"
   ]
  },
  {
   "cell_type": "code",
   "execution_count": 6,
   "id": "502abed5-c430-4902-9870-efb645e72a15",
   "metadata": {},
   "outputs": [
    {
     "data": {
      "text/plain": [
       "RowNumber          0\n",
       "CustomerId         0\n",
       "Surname            0\n",
       "CreditScore        0\n",
       "Geography          0\n",
       "Gender             0\n",
       "Age                0\n",
       "Tenure             0\n",
       "Balance            0\n",
       "NumOfProducts      0\n",
       "HasCrCard          0\n",
       "IsActiveMember     0\n",
       "EstimatedSalary    0\n",
       "Exited             0\n",
       "dtype: int64"
      ]
     },
     "execution_count": 6,
     "metadata": {},
     "output_type": "execute_result"
    }
   ],
   "source": [
    "df.isnull().sum()"
   ]
  },
  {
   "cell_type": "code",
   "execution_count": 7,
   "id": "118105d2-9c19-42ca-996a-433278031ced",
   "metadata": {},
   "outputs": [
    {
     "data": {
      "text/html": [
       "<div>\n",
       "<style scoped>\n",
       "    .dataframe tbody tr th:only-of-type {\n",
       "        vertical-align: middle;\n",
       "    }\n",
       "\n",
       "    .dataframe tbody tr th {\n",
       "        vertical-align: top;\n",
       "    }\n",
       "\n",
       "    .dataframe thead th {\n",
       "        text-align: right;\n",
       "    }\n",
       "</style>\n",
       "<table border=\"1\" class=\"dataframe\">\n",
       "  <thead>\n",
       "    <tr style=\"text-align: right;\">\n",
       "      <th></th>\n",
       "      <th>RowNumber</th>\n",
       "      <th>CustomerId</th>\n",
       "      <th>Surname</th>\n",
       "      <th>CreditScore</th>\n",
       "      <th>Geography</th>\n",
       "      <th>Gender</th>\n",
       "      <th>Age</th>\n",
       "      <th>Tenure</th>\n",
       "      <th>Balance</th>\n",
       "      <th>NumOfProducts</th>\n",
       "      <th>HasCrCard</th>\n",
       "      <th>IsActiveMember</th>\n",
       "      <th>EstimatedSalary</th>\n",
       "      <th>Exited</th>\n",
       "    </tr>\n",
       "  </thead>\n",
       "  <tbody>\n",
       "  </tbody>\n",
       "</table>\n",
       "</div>"
      ],
      "text/plain": [
       "Empty DataFrame\n",
       "Columns: [RowNumber, CustomerId, Surname, CreditScore, Geography, Gender, Age, Tenure, Balance, NumOfProducts, HasCrCard, IsActiveMember, EstimatedSalary, Exited]\n",
       "Index: []"
      ]
     },
     "execution_count": 7,
     "metadata": {},
     "output_type": "execute_result"
    }
   ],
   "source": [
    "df[df.duplicated()]"
   ]
  },
  {
   "cell_type": "code",
   "execution_count": 8,
   "id": "efdd4f3f-9856-47af-b6a3-e252ff589fc5",
   "metadata": {},
   "outputs": [],
   "source": [
    "#drop unneccesary columns\n",
    "\n",
    "df.drop(columns=['RowNumber','CustomerId','Surname'], inplace=True)"
   ]
  },
  {
   "cell_type": "code",
   "execution_count": 9,
   "id": "c80fc01f-b3aa-4924-b617-b244c67175cd",
   "metadata": {},
   "outputs": [
    {
     "data": {
      "text/html": [
       "<div>\n",
       "<style scoped>\n",
       "    .dataframe tbody tr th:only-of-type {\n",
       "        vertical-align: middle;\n",
       "    }\n",
       "\n",
       "    .dataframe tbody tr th {\n",
       "        vertical-align: top;\n",
       "    }\n",
       "\n",
       "    .dataframe thead th {\n",
       "        text-align: right;\n",
       "    }\n",
       "</style>\n",
       "<table border=\"1\" class=\"dataframe\">\n",
       "  <thead>\n",
       "    <tr style=\"text-align: right;\">\n",
       "      <th></th>\n",
       "      <th>CreditScore</th>\n",
       "      <th>Geography</th>\n",
       "      <th>Gender</th>\n",
       "      <th>Age</th>\n",
       "      <th>Tenure</th>\n",
       "      <th>Balance</th>\n",
       "      <th>NumOfProducts</th>\n",
       "      <th>HasCrCard</th>\n",
       "      <th>IsActiveMember</th>\n",
       "      <th>EstimatedSalary</th>\n",
       "      <th>Exited</th>\n",
       "    </tr>\n",
       "  </thead>\n",
       "  <tbody>\n",
       "    <tr>\n",
       "      <th>0</th>\n",
       "      <td>619</td>\n",
       "      <td>France</td>\n",
       "      <td>Female</td>\n",
       "      <td>42</td>\n",
       "      <td>2</td>\n",
       "      <td>0.00</td>\n",
       "      <td>1</td>\n",
       "      <td>1</td>\n",
       "      <td>1</td>\n",
       "      <td>101348.88</td>\n",
       "      <td>1</td>\n",
       "    </tr>\n",
       "    <tr>\n",
       "      <th>1</th>\n",
       "      <td>608</td>\n",
       "      <td>Spain</td>\n",
       "      <td>Female</td>\n",
       "      <td>41</td>\n",
       "      <td>1</td>\n",
       "      <td>83807.86</td>\n",
       "      <td>1</td>\n",
       "      <td>0</td>\n",
       "      <td>1</td>\n",
       "      <td>112542.58</td>\n",
       "      <td>0</td>\n",
       "    </tr>\n",
       "    <tr>\n",
       "      <th>2</th>\n",
       "      <td>502</td>\n",
       "      <td>France</td>\n",
       "      <td>Female</td>\n",
       "      <td>42</td>\n",
       "      <td>8</td>\n",
       "      <td>159660.80</td>\n",
       "      <td>3</td>\n",
       "      <td>1</td>\n",
       "      <td>0</td>\n",
       "      <td>113931.57</td>\n",
       "      <td>1</td>\n",
       "    </tr>\n",
       "    <tr>\n",
       "      <th>3</th>\n",
       "      <td>699</td>\n",
       "      <td>France</td>\n",
       "      <td>Female</td>\n",
       "      <td>39</td>\n",
       "      <td>1</td>\n",
       "      <td>0.00</td>\n",
       "      <td>2</td>\n",
       "      <td>0</td>\n",
       "      <td>0</td>\n",
       "      <td>93826.63</td>\n",
       "      <td>0</td>\n",
       "    </tr>\n",
       "    <tr>\n",
       "      <th>4</th>\n",
       "      <td>850</td>\n",
       "      <td>Spain</td>\n",
       "      <td>Female</td>\n",
       "      <td>43</td>\n",
       "      <td>2</td>\n",
       "      <td>125510.82</td>\n",
       "      <td>1</td>\n",
       "      <td>1</td>\n",
       "      <td>1</td>\n",
       "      <td>79084.10</td>\n",
       "      <td>0</td>\n",
       "    </tr>\n",
       "    <tr>\n",
       "      <th>...</th>\n",
       "      <td>...</td>\n",
       "      <td>...</td>\n",
       "      <td>...</td>\n",
       "      <td>...</td>\n",
       "      <td>...</td>\n",
       "      <td>...</td>\n",
       "      <td>...</td>\n",
       "      <td>...</td>\n",
       "      <td>...</td>\n",
       "      <td>...</td>\n",
       "      <td>...</td>\n",
       "    </tr>\n",
       "    <tr>\n",
       "      <th>9995</th>\n",
       "      <td>771</td>\n",
       "      <td>France</td>\n",
       "      <td>Male</td>\n",
       "      <td>39</td>\n",
       "      <td>5</td>\n",
       "      <td>0.00</td>\n",
       "      <td>2</td>\n",
       "      <td>1</td>\n",
       "      <td>0</td>\n",
       "      <td>96270.64</td>\n",
       "      <td>0</td>\n",
       "    </tr>\n",
       "    <tr>\n",
       "      <th>9996</th>\n",
       "      <td>516</td>\n",
       "      <td>France</td>\n",
       "      <td>Male</td>\n",
       "      <td>35</td>\n",
       "      <td>10</td>\n",
       "      <td>57369.61</td>\n",
       "      <td>1</td>\n",
       "      <td>1</td>\n",
       "      <td>1</td>\n",
       "      <td>101699.77</td>\n",
       "      <td>0</td>\n",
       "    </tr>\n",
       "    <tr>\n",
       "      <th>9997</th>\n",
       "      <td>709</td>\n",
       "      <td>France</td>\n",
       "      <td>Female</td>\n",
       "      <td>36</td>\n",
       "      <td>7</td>\n",
       "      <td>0.00</td>\n",
       "      <td>1</td>\n",
       "      <td>0</td>\n",
       "      <td>1</td>\n",
       "      <td>42085.58</td>\n",
       "      <td>1</td>\n",
       "    </tr>\n",
       "    <tr>\n",
       "      <th>9998</th>\n",
       "      <td>772</td>\n",
       "      <td>Germany</td>\n",
       "      <td>Male</td>\n",
       "      <td>42</td>\n",
       "      <td>3</td>\n",
       "      <td>75075.31</td>\n",
       "      <td>2</td>\n",
       "      <td>1</td>\n",
       "      <td>0</td>\n",
       "      <td>92888.52</td>\n",
       "      <td>1</td>\n",
       "    </tr>\n",
       "    <tr>\n",
       "      <th>9999</th>\n",
       "      <td>792</td>\n",
       "      <td>France</td>\n",
       "      <td>Female</td>\n",
       "      <td>28</td>\n",
       "      <td>4</td>\n",
       "      <td>130142.79</td>\n",
       "      <td>1</td>\n",
       "      <td>1</td>\n",
       "      <td>0</td>\n",
       "      <td>38190.78</td>\n",
       "      <td>0</td>\n",
       "    </tr>\n",
       "  </tbody>\n",
       "</table>\n",
       "<p>10000 rows × 11 columns</p>\n",
       "</div>"
      ],
      "text/plain": [
       "      CreditScore Geography  Gender  Age  Tenure    Balance  NumOfProducts  \\\n",
       "0             619    France  Female   42       2       0.00              1   \n",
       "1             608     Spain  Female   41       1   83807.86              1   \n",
       "2             502    France  Female   42       8  159660.80              3   \n",
       "3             699    France  Female   39       1       0.00              2   \n",
       "4             850     Spain  Female   43       2  125510.82              1   \n",
       "...           ...       ...     ...  ...     ...        ...            ...   \n",
       "9995          771    France    Male   39       5       0.00              2   \n",
       "9996          516    France    Male   35      10   57369.61              1   \n",
       "9997          709    France  Female   36       7       0.00              1   \n",
       "9998          772   Germany    Male   42       3   75075.31              2   \n",
       "9999          792    France  Female   28       4  130142.79              1   \n",
       "\n",
       "      HasCrCard  IsActiveMember  EstimatedSalary  Exited  \n",
       "0             1               1        101348.88       1  \n",
       "1             0               1        112542.58       0  \n",
       "2             1               0        113931.57       1  \n",
       "3             0               0         93826.63       0  \n",
       "4             1               1         79084.10       0  \n",
       "...         ...             ...              ...     ...  \n",
       "9995          1               0         96270.64       0  \n",
       "9996          1               1        101699.77       0  \n",
       "9997          0               1         42085.58       1  \n",
       "9998          1               0         92888.52       1  \n",
       "9999          1               0         38190.78       0  \n",
       "\n",
       "[10000 rows x 11 columns]"
      ]
     },
     "execution_count": 9,
     "metadata": {},
     "output_type": "execute_result"
    }
   ],
   "source": [
    "df"
   ]
  },
  {
   "cell_type": "code",
   "execution_count": 10,
   "id": "42de504e-7173-42b4-b84d-f80d4b78ebad",
   "metadata": {},
   "outputs": [
    {
     "data": {
      "text/plain": [
       "Geography\n",
       "France     5014\n",
       "Germany    2509\n",
       "Spain      2477\n",
       "Name: count, dtype: int64"
      ]
     },
     "execution_count": 10,
     "metadata": {},
     "output_type": "execute_result"
    }
   ],
   "source": [
    "df['Geography'].value_counts()"
   ]
  },
  {
   "cell_type": "code",
   "execution_count": 11,
   "id": "bb259171-7001-4b66-96c9-9b773af28d24",
   "metadata": {},
   "outputs": [
    {
     "data": {
      "text/plain": [
       "Gender\n",
       "Male      5457\n",
       "Female    4543\n",
       "Name: count, dtype: int64"
      ]
     },
     "execution_count": 11,
     "metadata": {},
     "output_type": "execute_result"
    }
   ],
   "source": [
    "df['Gender'].value_counts()"
   ]
  },
  {
   "cell_type": "code",
   "execution_count": 12,
   "id": "ba73a88b-bbf0-47b3-b5b3-84682e8067ed",
   "metadata": {},
   "outputs": [
    {
     "data": {
      "text/plain": [
       "Exited\n",
       "0    7963\n",
       "1    2037\n",
       "Name: count, dtype: int64"
      ]
     },
     "execution_count": 12,
     "metadata": {},
     "output_type": "execute_result"
    }
   ],
   "source": [
    "#target variable classes\n",
    "df['Exited'].value_counts()"
   ]
  },
  {
   "cell_type": "markdown",
   "id": "cd4e6ccd-c757-4460-b801-0f0bc3fd4ac9",
   "metadata": {},
   "source": [
    "#### There is class imbalance data issue is there"
   ]
  },
  {
   "cell_type": "code",
   "execution_count": 13,
   "id": "5b03f6c4-d1a6-4e2e-9360-0dff6fcf3b53",
   "metadata": {},
   "outputs": [
    {
     "data": {
      "text/html": [
       "<div>\n",
       "<style scoped>\n",
       "    .dataframe tbody tr th:only-of-type {\n",
       "        vertical-align: middle;\n",
       "    }\n",
       "\n",
       "    .dataframe tbody tr th {\n",
       "        vertical-align: top;\n",
       "    }\n",
       "\n",
       "    .dataframe thead th {\n",
       "        text-align: right;\n",
       "    }\n",
       "</style>\n",
       "<table border=\"1\" class=\"dataframe\">\n",
       "  <thead>\n",
       "    <tr style=\"text-align: right;\">\n",
       "      <th></th>\n",
       "      <th></th>\n",
       "      <th>proportion</th>\n",
       "    </tr>\n",
       "    <tr>\n",
       "      <th>Geography</th>\n",
       "      <th>Exited</th>\n",
       "      <th></th>\n",
       "    </tr>\n",
       "  </thead>\n",
       "  <tbody>\n",
       "    <tr>\n",
       "      <th rowspan=\"2\" valign=\"top\">France</th>\n",
       "      <th>0</th>\n",
       "      <td>83.845233</td>\n",
       "    </tr>\n",
       "    <tr>\n",
       "      <th>1</th>\n",
       "      <td>16.154767</td>\n",
       "    </tr>\n",
       "    <tr>\n",
       "      <th rowspan=\"2\" valign=\"top\">Germany</th>\n",
       "      <th>0</th>\n",
       "      <td>67.556796</td>\n",
       "    </tr>\n",
       "    <tr>\n",
       "      <th>1</th>\n",
       "      <td>32.443204</td>\n",
       "    </tr>\n",
       "    <tr>\n",
       "      <th rowspan=\"2\" valign=\"top\">Spain</th>\n",
       "      <th>0</th>\n",
       "      <td>83.326605</td>\n",
       "    </tr>\n",
       "    <tr>\n",
       "      <th>1</th>\n",
       "      <td>16.673395</td>\n",
       "    </tr>\n",
       "  </tbody>\n",
       "</table>\n",
       "</div>"
      ],
      "text/plain": [
       "                  proportion\n",
       "Geography Exited            \n",
       "France    0        83.845233\n",
       "          1        16.154767\n",
       "Germany   0        67.556796\n",
       "          1        32.443204\n",
       "Spain     0        83.326605\n",
       "          1        16.673395"
      ]
     },
     "execution_count": 13,
     "metadata": {},
     "output_type": "execute_result"
    }
   ],
   "source": [
    "df.groupby(['Geography'])['Exited'].value_counts(normalize=True).to_frame()*100"
   ]
  },
  {
   "cell_type": "code",
   "execution_count": 14,
   "id": "5365da2f-52e5-4391-8057-de25d8a04cdb",
   "metadata": {},
   "outputs": [
    {
     "data": {
      "text/html": [
       "<div>\n",
       "<style scoped>\n",
       "    .dataframe tbody tr th:only-of-type {\n",
       "        vertical-align: middle;\n",
       "    }\n",
       "\n",
       "    .dataframe tbody tr th {\n",
       "        vertical-align: top;\n",
       "    }\n",
       "\n",
       "    .dataframe thead th {\n",
       "        text-align: right;\n",
       "    }\n",
       "</style>\n",
       "<table border=\"1\" class=\"dataframe\">\n",
       "  <thead>\n",
       "    <tr style=\"text-align: right;\">\n",
       "      <th></th>\n",
       "      <th></th>\n",
       "      <th>proportion</th>\n",
       "    </tr>\n",
       "    <tr>\n",
       "      <th>Gender</th>\n",
       "      <th>Exited</th>\n",
       "      <th></th>\n",
       "    </tr>\n",
       "  </thead>\n",
       "  <tbody>\n",
       "    <tr>\n",
       "      <th rowspan=\"2\" valign=\"top\">Female</th>\n",
       "      <th>0</th>\n",
       "      <td>74.928461</td>\n",
       "    </tr>\n",
       "    <tr>\n",
       "      <th>1</th>\n",
       "      <td>25.071539</td>\n",
       "    </tr>\n",
       "    <tr>\n",
       "      <th rowspan=\"2\" valign=\"top\">Male</th>\n",
       "      <th>0</th>\n",
       "      <td>83.544072</td>\n",
       "    </tr>\n",
       "    <tr>\n",
       "      <th>1</th>\n",
       "      <td>16.455928</td>\n",
       "    </tr>\n",
       "  </tbody>\n",
       "</table>\n",
       "</div>"
      ],
      "text/plain": [
       "               proportion\n",
       "Gender Exited            \n",
       "Female 0        74.928461\n",
       "       1        25.071539\n",
       "Male   0        83.544072\n",
       "       1        16.455928"
      ]
     },
     "execution_count": 14,
     "metadata": {},
     "output_type": "execute_result"
    }
   ],
   "source": [
    "df.groupby(['Gender'])['Exited'].value_counts(normalize=True).to_frame()*100"
   ]
  },
  {
   "cell_type": "code",
   "execution_count": 15,
   "id": "0b715397-a057-4710-9e9a-b48b7eda61c7",
   "metadata": {},
   "outputs": [],
   "source": [
    "#handling categorical columns\n",
    "\n",
    "df = pd.get_dummies(df,columns=['Geography','Gender'], drop_first=True)"
   ]
  },
  {
   "cell_type": "code",
   "execution_count": 16,
   "id": "1d89f5bd-a3fd-4324-a838-b5206b853ff1",
   "metadata": {},
   "outputs": [],
   "source": [
    "#splitting the data\n",
    "from sklearn.model_selection import train_test_split\n",
    "\n",
    "\n",
    "X = df.drop(columns=['Exited'])\n",
    "y = df['Exited'].values\n",
    "\n",
    "\n",
    "X_train,X_test,y_train,y_test = train_test_split(X,y,test_size=0.2,random_state=43)"
   ]
  },
  {
   "cell_type": "code",
   "execution_count": 17,
   "id": "237cc578-a8aa-41ad-9227-1dd477b4dc74",
   "metadata": {},
   "outputs": [
    {
     "data": {
      "text/plain": [
       "((8000, 11), (2000, 11))"
      ]
     },
     "execution_count": 17,
     "metadata": {},
     "output_type": "execute_result"
    }
   ],
   "source": [
    "X_train.shape, X_test.shape"
   ]
  },
  {
   "cell_type": "code",
   "execution_count": 18,
   "id": "43dc08e1-4d4f-47ab-9512-382d9b8f1d7d",
   "metadata": {},
   "outputs": [],
   "source": [
    "from sklearn.preprocessing import StandardScaler\n",
    "\n",
    "st = StandardScaler()\n",
    "\n",
    "X_train_scaled = st.fit_transform(X_train)\n",
    "X_test_scaled = st.transform(X_test)"
   ]
  },
  {
   "cell_type": "code",
   "execution_count": 19,
   "id": "247f36d5-7e0a-437a-99d2-49c613bb461c",
   "metadata": {},
   "outputs": [
    {
     "data": {
      "text/plain": [
       "array([[ 1.5178518 , -0.85641715, -1.03980536, ..., -0.57715782,\n",
       "        -0.57850497,  0.90134069],\n",
       "       [ 1.0209782 , -0.28681727, -0.3490769 , ..., -0.57715782,\n",
       "         1.72859362,  0.90134069],\n",
       "       [ 2.02507693, -0.09695065, -1.03980536, ..., -0.57715782,\n",
       "         1.72859362, -1.1094584 ],\n",
       "       ...,\n",
       "       [ 0.48269847, -1.14121709, -1.03980536, ...,  1.73262835,\n",
       "        -0.57850497, -1.1094584 ],\n",
       "       [ 0.66902607,  0.56758255, -1.73053383, ..., -0.57715782,\n",
       "         1.72859362,  0.90134069],\n",
       "       [-0.27296346, -0.57161721,  1.03238003, ...,  1.73262835,\n",
       "        -0.57850497,  0.90134069]])"
      ]
     },
     "execution_count": 19,
     "metadata": {},
     "output_type": "execute_result"
    }
   ],
   "source": [
    "X_train_scaled"
   ]
  },
  {
   "cell_type": "code",
   "execution_count": 20,
   "id": "c9c11dfe-f1ab-4011-b9ff-4a92877a2bb8",
   "metadata": {},
   "outputs": [
    {
     "data": {
      "text/plain": [
       "array([[ 1.22800887,  0.37771592, -1.03980536, ...,  1.73262835,\n",
       "        -0.57850497, -1.1094584 ],\n",
       "       [ 0.44129234, -0.57161721,  1.37774427, ..., -0.57715782,\n",
       "        -0.57850497,  0.90134069],\n",
       "       [ 0.34812854,  3.22571532,  1.03238003, ..., -0.57715782,\n",
       "        -0.57850497, -1.1094584 ],\n",
       "       ...,\n",
       "       [-0.47999413, -0.76148384,  1.03238003, ..., -0.57715782,\n",
       "        -0.57850497,  0.90134069],\n",
       "       [ 0.3688316 ,  0.09291598,  0.6870158 , ..., -0.57715782,\n",
       "        -0.57850497, -1.1094584 ],\n",
       "       [-0.47999413,  0.66251586, -1.03980536, ..., -0.57715782,\n",
       "         1.72859362,  0.90134069]])"
      ]
     },
     "execution_count": 20,
     "metadata": {},
     "output_type": "execute_result"
    }
   ],
   "source": [
    "X_test_scaled"
   ]
  },
  {
   "cell_type": "markdown",
   "id": "787c3051-b72e-4486-9515-0fb6793a1b21",
   "metadata": {},
   "source": [
    "### Model Building"
   ]
  },
  {
   "cell_type": "code",
   "execution_count": 21,
   "id": "6d59ab9a-015e-421d-a974-8ed76ff63db3",
   "metadata": {},
   "outputs": [],
   "source": [
    "model = Sequential()\n",
    "\n",
    "#adding Hidden layers to model\n",
    "model.add(Dense(11, activation='sigmoid', input_dim=11))\n",
    "model.add(Dense(11, activation='sigmoid'))\n",
    "\n",
    "#11 no. of neurons/nodes were there\n",
    "model.add(Dense(1, activation='sigmoid'))"
   ]
  },
  {
   "cell_type": "code",
   "execution_count": 22,
   "id": "958a769f-d5e0-40cd-be2e-4d36b005bd0f",
   "metadata": {},
   "outputs": [
    {
     "name": "stdout",
     "output_type": "stream",
     "text": [
      "Model: \"sequential\"\n",
      "_________________________________________________________________\n",
      " Layer (type)                Output Shape              Param #   \n",
      "=================================================================\n",
      " dense (Dense)               (None, 11)                132       \n",
      "                                                                 \n",
      " dense_1 (Dense)             (None, 11)                132       \n",
      "                                                                 \n",
      " dense_2 (Dense)             (None, 1)                 12        \n",
      "                                                                 \n",
      "=================================================================\n",
      "Total params: 276 (1.08 KB)\n",
      "Trainable params: 276 (1.08 KB)\n",
      "Non-trainable params: 0 (0.00 Byte)\n",
      "_________________________________________________________________\n"
     ]
    }
   ],
   "source": [
    "model.summary()"
   ]
  },
  {
   "cell_type": "code",
   "execution_count": 23,
   "id": "2a8de2df-ff20-4a83-a4b4-bca47bf025f3",
   "metadata": {},
   "outputs": [],
   "source": [
    "model.compile(optimizer='Adam',loss='binary_crossentropy',metrics=['accuracy'])"
   ]
  },
  {
   "cell_type": "code",
   "execution_count": 24,
   "id": "ae9266e1-5dfc-42f4-936f-fba5c2020f0e",
   "metadata": {},
   "outputs": [
    {
     "name": "stdout",
     "output_type": "stream",
     "text": [
      "Epoch 1/100\n",
      "128/128 [==============================] - 2s 7ms/step - loss: 0.5146 - accuracy: 0.7962 - val_loss: 0.4962 - val_accuracy: 0.7994\n",
      "Epoch 2/100\n",
      "128/128 [==============================] - 1s 4ms/step - loss: 0.4951 - accuracy: 0.7962 - val_loss: 0.4871 - val_accuracy: 0.7994\n",
      "Epoch 3/100\n",
      "128/128 [==============================] - 1s 5ms/step - loss: 0.4838 - accuracy: 0.7962 - val_loss: 0.4746 - val_accuracy: 0.7994\n",
      "Epoch 4/100\n",
      "128/128 [==============================] - 0s 4ms/step - loss: 0.4693 - accuracy: 0.7962 - val_loss: 0.4600 - val_accuracy: 0.7994\n",
      "Epoch 5/100\n",
      "128/128 [==============================] - 1s 4ms/step - loss: 0.4543 - accuracy: 0.7962 - val_loss: 0.4468 - val_accuracy: 0.7994\n",
      "Epoch 6/100\n",
      "128/128 [==============================] - 1s 4ms/step - loss: 0.4419 - accuracy: 0.7964 - val_loss: 0.4370 - val_accuracy: 0.8019\n",
      "Epoch 7/100\n",
      "128/128 [==============================] - 0s 4ms/step - loss: 0.4335 - accuracy: 0.8058 - val_loss: 0.4304 - val_accuracy: 0.8087\n",
      "Epoch 8/100\n",
      "128/128 [==============================] - 1s 4ms/step - loss: 0.4284 - accuracy: 0.8139 - val_loss: 0.4261 - val_accuracy: 0.8150\n",
      "Epoch 9/100\n",
      "128/128 [==============================] - 0s 4ms/step - loss: 0.4252 - accuracy: 0.8153 - val_loss: 0.4240 - val_accuracy: 0.8138\n",
      "Epoch 10/100\n",
      "128/128 [==============================] - 1s 4ms/step - loss: 0.4234 - accuracy: 0.8142 - val_loss: 0.4215 - val_accuracy: 0.8156\n",
      "Epoch 11/100\n",
      "128/128 [==============================] - 1s 4ms/step - loss: 0.4217 - accuracy: 0.8152 - val_loss: 0.4197 - val_accuracy: 0.8188\n",
      "Epoch 12/100\n",
      "128/128 [==============================] - 1s 5ms/step - loss: 0.4200 - accuracy: 0.8177 - val_loss: 0.4180 - val_accuracy: 0.8194\n",
      "Epoch 13/100\n",
      "128/128 [==============================] - 0s 4ms/step - loss: 0.4183 - accuracy: 0.8181 - val_loss: 0.4160 - val_accuracy: 0.8219\n",
      "Epoch 14/100\n",
      "128/128 [==============================] - 1s 4ms/step - loss: 0.4166 - accuracy: 0.8198 - val_loss: 0.4147 - val_accuracy: 0.8213\n",
      "Epoch 15/100\n",
      "128/128 [==============================] - 1s 4ms/step - loss: 0.4150 - accuracy: 0.8213 - val_loss: 0.4120 - val_accuracy: 0.8256\n",
      "Epoch 16/100\n",
      "128/128 [==============================] - 1s 5ms/step - loss: 0.4130 - accuracy: 0.8258 - val_loss: 0.4099 - val_accuracy: 0.8269\n",
      "Epoch 17/100\n",
      "128/128 [==============================] - 1s 4ms/step - loss: 0.4110 - accuracy: 0.8263 - val_loss: 0.4080 - val_accuracy: 0.8294\n",
      "Epoch 18/100\n",
      "128/128 [==============================] - 1s 4ms/step - loss: 0.4090 - accuracy: 0.8275 - val_loss: 0.4055 - val_accuracy: 0.8325\n",
      "Epoch 19/100\n",
      "128/128 [==============================] - 1s 4ms/step - loss: 0.4068 - accuracy: 0.8295 - val_loss: 0.4035 - val_accuracy: 0.8338\n",
      "Epoch 20/100\n",
      "128/128 [==============================] - 1s 4ms/step - loss: 0.4049 - accuracy: 0.8314 - val_loss: 0.4014 - val_accuracy: 0.8356\n",
      "Epoch 21/100\n",
      "128/128 [==============================] - 1s 5ms/step - loss: 0.4028 - accuracy: 0.8319 - val_loss: 0.3987 - val_accuracy: 0.8350\n",
      "Epoch 22/100\n",
      "128/128 [==============================] - 1s 5ms/step - loss: 0.4008 - accuracy: 0.8341 - val_loss: 0.3967 - val_accuracy: 0.8369\n",
      "Epoch 23/100\n",
      "128/128 [==============================] - 1s 5ms/step - loss: 0.3988 - accuracy: 0.8350 - val_loss: 0.3946 - val_accuracy: 0.8375\n",
      "Epoch 24/100\n",
      "128/128 [==============================] - 1s 4ms/step - loss: 0.3971 - accuracy: 0.8363 - val_loss: 0.3925 - val_accuracy: 0.8400\n",
      "Epoch 25/100\n",
      "128/128 [==============================] - 1s 5ms/step - loss: 0.3951 - accuracy: 0.8370 - val_loss: 0.3911 - val_accuracy: 0.8413\n",
      "Epoch 26/100\n",
      "128/128 [==============================] - 1s 5ms/step - loss: 0.3934 - accuracy: 0.8364 - val_loss: 0.3890 - val_accuracy: 0.8406\n",
      "Epoch 27/100\n",
      "128/128 [==============================] - 1s 9ms/step - loss: 0.3918 - accuracy: 0.8367 - val_loss: 0.3878 - val_accuracy: 0.8462\n",
      "Epoch 28/100\n",
      "128/128 [==============================] - 1s 6ms/step - loss: 0.3902 - accuracy: 0.8394 - val_loss: 0.3856 - val_accuracy: 0.8450\n",
      "Epoch 29/100\n",
      "128/128 [==============================] - 1s 5ms/step - loss: 0.3884 - accuracy: 0.8386 - val_loss: 0.3838 - val_accuracy: 0.8462\n",
      "Epoch 30/100\n",
      "128/128 [==============================] - 1s 5ms/step - loss: 0.3866 - accuracy: 0.8397 - val_loss: 0.3828 - val_accuracy: 0.8475\n",
      "Epoch 31/100\n",
      "128/128 [==============================] - 1s 6ms/step - loss: 0.3853 - accuracy: 0.8411 - val_loss: 0.3811 - val_accuracy: 0.8500\n",
      "Epoch 32/100\n",
      "128/128 [==============================] - 1s 5ms/step - loss: 0.3835 - accuracy: 0.8420 - val_loss: 0.3792 - val_accuracy: 0.8462\n",
      "Epoch 33/100\n",
      "128/128 [==============================] - 1s 6ms/step - loss: 0.3818 - accuracy: 0.8427 - val_loss: 0.3780 - val_accuracy: 0.8462\n",
      "Epoch 34/100\n",
      "128/128 [==============================] - 1s 5ms/step - loss: 0.3801 - accuracy: 0.8447 - val_loss: 0.3769 - val_accuracy: 0.8500\n",
      "Epoch 35/100\n",
      "128/128 [==============================] - 1s 6ms/step - loss: 0.3793 - accuracy: 0.8428 - val_loss: 0.3755 - val_accuracy: 0.8481\n",
      "Epoch 36/100\n",
      "128/128 [==============================] - 1s 5ms/step - loss: 0.3772 - accuracy: 0.8445 - val_loss: 0.3741 - val_accuracy: 0.8487\n",
      "Epoch 37/100\n",
      "128/128 [==============================] - 1s 6ms/step - loss: 0.3757 - accuracy: 0.8453 - val_loss: 0.3729 - val_accuracy: 0.8512\n",
      "Epoch 38/100\n",
      "128/128 [==============================] - 1s 5ms/step - loss: 0.3741 - accuracy: 0.8453 - val_loss: 0.3714 - val_accuracy: 0.8500\n",
      "Epoch 39/100\n",
      "128/128 [==============================] - 1s 5ms/step - loss: 0.3727 - accuracy: 0.8456 - val_loss: 0.3705 - val_accuracy: 0.8525\n",
      "Epoch 40/100\n",
      "128/128 [==============================] - 1s 5ms/step - loss: 0.3713 - accuracy: 0.8475 - val_loss: 0.3691 - val_accuracy: 0.8506\n",
      "Epoch 41/100\n",
      "128/128 [==============================] - 1s 4ms/step - loss: 0.3700 - accuracy: 0.8478 - val_loss: 0.3681 - val_accuracy: 0.8512\n",
      "Epoch 42/100\n",
      "128/128 [==============================] - 1s 4ms/step - loss: 0.3685 - accuracy: 0.8506 - val_loss: 0.3670 - val_accuracy: 0.8506\n",
      "Epoch 43/100\n",
      "128/128 [==============================] - 1s 5ms/step - loss: 0.3672 - accuracy: 0.8508 - val_loss: 0.3659 - val_accuracy: 0.8519\n",
      "Epoch 44/100\n",
      "128/128 [==============================] - 0s 4ms/step - loss: 0.3658 - accuracy: 0.8502 - val_loss: 0.3662 - val_accuracy: 0.8519\n",
      "Epoch 45/100\n",
      "128/128 [==============================] - 1s 5ms/step - loss: 0.3645 - accuracy: 0.8503 - val_loss: 0.3643 - val_accuracy: 0.8512\n",
      "Epoch 46/100\n",
      "128/128 [==============================] - 1s 4ms/step - loss: 0.3634 - accuracy: 0.8509 - val_loss: 0.3638 - val_accuracy: 0.8556\n",
      "Epoch 47/100\n",
      "128/128 [==============================] - 1s 4ms/step - loss: 0.3620 - accuracy: 0.8525 - val_loss: 0.3628 - val_accuracy: 0.8550\n",
      "Epoch 48/100\n",
      "128/128 [==============================] - 1s 5ms/step - loss: 0.3612 - accuracy: 0.8527 - val_loss: 0.3621 - val_accuracy: 0.8537\n",
      "Epoch 49/100\n",
      "128/128 [==============================] - 1s 4ms/step - loss: 0.3598 - accuracy: 0.8527 - val_loss: 0.3614 - val_accuracy: 0.8525\n",
      "Epoch 50/100\n",
      "128/128 [==============================] - 1s 5ms/step - loss: 0.3589 - accuracy: 0.8537 - val_loss: 0.3608 - val_accuracy: 0.8587\n",
      "Epoch 51/100\n",
      "128/128 [==============================] - 1s 5ms/step - loss: 0.3572 - accuracy: 0.8545 - val_loss: 0.3622 - val_accuracy: 0.8606\n",
      "Epoch 52/100\n",
      "128/128 [==============================] - 1s 4ms/step - loss: 0.3569 - accuracy: 0.8527 - val_loss: 0.3591 - val_accuracy: 0.8562\n",
      "Epoch 53/100\n",
      "128/128 [==============================] - 1s 4ms/step - loss: 0.3554 - accuracy: 0.8544 - val_loss: 0.3589 - val_accuracy: 0.8594\n",
      "Epoch 54/100\n",
      "128/128 [==============================] - 1s 6ms/step - loss: 0.3546 - accuracy: 0.8555 - val_loss: 0.3578 - val_accuracy: 0.8594\n",
      "Epoch 55/100\n",
      "128/128 [==============================] - 1s 5ms/step - loss: 0.3537 - accuracy: 0.8581 - val_loss: 0.3569 - val_accuracy: 0.8575\n",
      "Epoch 56/100\n",
      "128/128 [==============================] - 1s 5ms/step - loss: 0.3527 - accuracy: 0.8573 - val_loss: 0.3569 - val_accuracy: 0.8606\n",
      "Epoch 57/100\n",
      "128/128 [==============================] - 1s 4ms/step - loss: 0.3517 - accuracy: 0.8578 - val_loss: 0.3570 - val_accuracy: 0.8600\n",
      "Epoch 58/100\n",
      "128/128 [==============================] - 1s 4ms/step - loss: 0.3514 - accuracy: 0.8572 - val_loss: 0.3558 - val_accuracy: 0.8612\n",
      "Epoch 59/100\n",
      "128/128 [==============================] - 1s 4ms/step - loss: 0.3504 - accuracy: 0.8567 - val_loss: 0.3549 - val_accuracy: 0.8594\n",
      "Epoch 60/100\n",
      "128/128 [==============================] - 1s 5ms/step - loss: 0.3495 - accuracy: 0.8580 - val_loss: 0.3545 - val_accuracy: 0.8606\n",
      "Epoch 61/100\n",
      "128/128 [==============================] - 1s 4ms/step - loss: 0.3488 - accuracy: 0.8589 - val_loss: 0.3545 - val_accuracy: 0.8612\n",
      "Epoch 62/100\n",
      "128/128 [==============================] - 1s 4ms/step - loss: 0.3481 - accuracy: 0.8583 - val_loss: 0.3538 - val_accuracy: 0.8612\n",
      "Epoch 63/100\n",
      "128/128 [==============================] - 1s 4ms/step - loss: 0.3477 - accuracy: 0.8581 - val_loss: 0.3533 - val_accuracy: 0.8600\n",
      "Epoch 64/100\n",
      "128/128 [==============================] - 1s 4ms/step - loss: 0.3466 - accuracy: 0.8609 - val_loss: 0.3531 - val_accuracy: 0.8612\n",
      "Epoch 65/100\n",
      "128/128 [==============================] - 1s 4ms/step - loss: 0.3461 - accuracy: 0.8595 - val_loss: 0.3521 - val_accuracy: 0.8631\n",
      "Epoch 66/100\n",
      "128/128 [==============================] - 1s 4ms/step - loss: 0.3458 - accuracy: 0.8603 - val_loss: 0.3520 - val_accuracy: 0.8631\n",
      "Epoch 67/100\n",
      "128/128 [==============================] - 1s 4ms/step - loss: 0.3452 - accuracy: 0.8609 - val_loss: 0.3512 - val_accuracy: 0.8650\n",
      "Epoch 68/100\n",
      "128/128 [==============================] - 1s 4ms/step - loss: 0.3442 - accuracy: 0.8625 - val_loss: 0.3528 - val_accuracy: 0.8631\n",
      "Epoch 69/100\n",
      "128/128 [==============================] - 1s 6ms/step - loss: 0.3445 - accuracy: 0.8616 - val_loss: 0.3504 - val_accuracy: 0.8631\n",
      "Epoch 70/100\n",
      "128/128 [==============================] - 1s 4ms/step - loss: 0.3433 - accuracy: 0.8617 - val_loss: 0.3501 - val_accuracy: 0.8644\n",
      "Epoch 71/100\n",
      "128/128 [==============================] - 1s 5ms/step - loss: 0.3430 - accuracy: 0.8616 - val_loss: 0.3498 - val_accuracy: 0.8637\n",
      "Epoch 72/100\n",
      "128/128 [==============================] - 1s 4ms/step - loss: 0.3427 - accuracy: 0.8627 - val_loss: 0.3494 - val_accuracy: 0.8631\n",
      "Epoch 73/100\n",
      "128/128 [==============================] - 1s 5ms/step - loss: 0.3421 - accuracy: 0.8633 - val_loss: 0.3494 - val_accuracy: 0.8644\n",
      "Epoch 74/100\n",
      "128/128 [==============================] - 1s 4ms/step - loss: 0.3417 - accuracy: 0.8633 - val_loss: 0.3494 - val_accuracy: 0.8612\n",
      "Epoch 75/100\n",
      "128/128 [==============================] - 1s 4ms/step - loss: 0.3414 - accuracy: 0.8630 - val_loss: 0.3485 - val_accuracy: 0.8637\n",
      "Epoch 76/100\n",
      "128/128 [==============================] - 1s 4ms/step - loss: 0.3407 - accuracy: 0.8625 - val_loss: 0.3481 - val_accuracy: 0.8644\n",
      "Epoch 77/100\n",
      "128/128 [==============================] - 1s 4ms/step - loss: 0.3406 - accuracy: 0.8628 - val_loss: 0.3477 - val_accuracy: 0.8656\n",
      "Epoch 78/100\n",
      "128/128 [==============================] - 1s 5ms/step - loss: 0.3398 - accuracy: 0.8619 - val_loss: 0.3475 - val_accuracy: 0.8631\n",
      "Epoch 79/100\n",
      "128/128 [==============================] - 1s 4ms/step - loss: 0.3396 - accuracy: 0.8630 - val_loss: 0.3477 - val_accuracy: 0.8650\n",
      "Epoch 80/100\n",
      "128/128 [==============================] - 1s 4ms/step - loss: 0.3397 - accuracy: 0.8630 - val_loss: 0.3476 - val_accuracy: 0.8650\n",
      "Epoch 81/100\n",
      "128/128 [==============================] - 1s 5ms/step - loss: 0.3389 - accuracy: 0.8633 - val_loss: 0.3472 - val_accuracy: 0.8650\n",
      "Epoch 82/100\n",
      "128/128 [==============================] - 1s 4ms/step - loss: 0.3386 - accuracy: 0.8630 - val_loss: 0.3468 - val_accuracy: 0.8637\n",
      "Epoch 83/100\n",
      "128/128 [==============================] - 0s 4ms/step - loss: 0.3382 - accuracy: 0.8639 - val_loss: 0.3465 - val_accuracy: 0.8631\n",
      "Epoch 84/100\n",
      "128/128 [==============================] - 1s 4ms/step - loss: 0.3378 - accuracy: 0.8627 - val_loss: 0.3465 - val_accuracy: 0.8637\n",
      "Epoch 85/100\n",
      "128/128 [==============================] - 1s 4ms/step - loss: 0.3378 - accuracy: 0.8642 - val_loss: 0.3466 - val_accuracy: 0.8631\n",
      "Epoch 86/100\n",
      "128/128 [==============================] - 0s 4ms/step - loss: 0.3373 - accuracy: 0.8634 - val_loss: 0.3464 - val_accuracy: 0.8656\n",
      "Epoch 87/100\n",
      "128/128 [==============================] - 1s 4ms/step - loss: 0.3370 - accuracy: 0.8636 - val_loss: 0.3461 - val_accuracy: 0.8631\n",
      "Epoch 88/100\n",
      "128/128 [==============================] - 0s 4ms/step - loss: 0.3367 - accuracy: 0.8636 - val_loss: 0.3458 - val_accuracy: 0.8650\n",
      "Epoch 89/100\n",
      "128/128 [==============================] - 1s 4ms/step - loss: 0.3366 - accuracy: 0.8627 - val_loss: 0.3454 - val_accuracy: 0.8650\n",
      "Epoch 90/100\n",
      "128/128 [==============================] - 1s 4ms/step - loss: 0.3368 - accuracy: 0.8636 - val_loss: 0.3455 - val_accuracy: 0.8637\n",
      "Epoch 91/100\n",
      "128/128 [==============================] - 1s 4ms/step - loss: 0.3357 - accuracy: 0.8633 - val_loss: 0.3456 - val_accuracy: 0.8662\n",
      "Epoch 92/100\n",
      "128/128 [==============================] - 1s 4ms/step - loss: 0.3358 - accuracy: 0.8637 - val_loss: 0.3452 - val_accuracy: 0.8625\n",
      "Epoch 93/100\n",
      "128/128 [==============================] - 1s 5ms/step - loss: 0.3359 - accuracy: 0.8633 - val_loss: 0.3458 - val_accuracy: 0.8637\n",
      "Epoch 94/100\n",
      "128/128 [==============================] - 1s 4ms/step - loss: 0.3349 - accuracy: 0.8641 - val_loss: 0.3466 - val_accuracy: 0.8625\n",
      "Epoch 95/100\n",
      "128/128 [==============================] - 0s 4ms/step - loss: 0.3355 - accuracy: 0.8650 - val_loss: 0.3450 - val_accuracy: 0.8625\n",
      "Epoch 96/100\n",
      "128/128 [==============================] - 1s 5ms/step - loss: 0.3354 - accuracy: 0.8634 - val_loss: 0.3457 - val_accuracy: 0.8619\n",
      "Epoch 97/100\n",
      "128/128 [==============================] - 1s 4ms/step - loss: 0.3351 - accuracy: 0.8667 - val_loss: 0.3452 - val_accuracy: 0.8656\n",
      "Epoch 98/100\n",
      "128/128 [==============================] - 1s 4ms/step - loss: 0.3346 - accuracy: 0.8647 - val_loss: 0.3452 - val_accuracy: 0.8619\n",
      "Epoch 99/100\n",
      "128/128 [==============================] - 1s 4ms/step - loss: 0.3345 - accuracy: 0.8642 - val_loss: 0.3445 - val_accuracy: 0.8631\n",
      "Epoch 100/100\n",
      "128/128 [==============================] - 1s 4ms/step - loss: 0.3340 - accuracy: 0.8642 - val_loss: 0.3455 - val_accuracy: 0.8631\n"
     ]
    }
   ],
   "source": [
    "history = model.fit(X_train_scaled,y_train,batch_size=50,epochs=100,verbose=1,validation_split=0.2)"
   ]
  },
  {
   "cell_type": "code",
   "execution_count": 25,
   "id": "f67c22f7-3b19-4d6d-be14-351fe20c29df",
   "metadata": {},
   "outputs": [
    {
     "name": "stdout",
     "output_type": "stream",
     "text": [
      "63/63 [==============================] - 0s 3ms/step\n"
     ]
    }
   ],
   "source": [
    "y_pred = model.predict(X_test_scaled)"
   ]
  },
  {
   "cell_type": "code",
   "execution_count": 26,
   "id": "7aea551d-c847-4545-a1e4-2f57fcf90329",
   "metadata": {},
   "outputs": [
    {
     "data": {
      "text/plain": [
       "array([[0.17667265],\n",
       "       [0.09410882],\n",
       "       [0.1601296 ],\n",
       "       ...,\n",
       "       [0.00854486],\n",
       "       [0.32458967],\n",
       "       [0.18242018]], dtype=float32)"
      ]
     },
     "execution_count": 26,
     "metadata": {},
     "output_type": "execute_result"
    }
   ],
   "source": [
    "y_pred"
   ]
  },
  {
   "cell_type": "code",
   "execution_count": 27,
   "id": "cc0bcb58-2ce8-499b-a565-2f47d1273139",
   "metadata": {},
   "outputs": [],
   "source": [
    "y_prediction = np.where(y_pred<0.5,0,1)"
   ]
  },
  {
   "cell_type": "code",
   "execution_count": 28,
   "id": "ca97e53c-755e-4c68-b145-06909457854c",
   "metadata": {},
   "outputs": [
    {
     "data": {
      "text/plain": [
       "array([[0],\n",
       "       [0],\n",
       "       [0],\n",
       "       ...,\n",
       "       [0],\n",
       "       [0],\n",
       "       [0]])"
      ]
     },
     "execution_count": 28,
     "metadata": {},
     "output_type": "execute_result"
    }
   ],
   "source": [
    "y_prediction"
   ]
  },
  {
   "cell_type": "code",
   "execution_count": 30,
   "id": "ea626b09-3648-4ff1-83ac-bf8934155cf1",
   "metadata": {},
   "outputs": [
    {
     "data": {
      "text/plain": [
       "0.853"
      ]
     },
     "execution_count": 30,
     "metadata": {},
     "output_type": "execute_result"
    }
   ],
   "source": [
    "from sklearn.metrics import accuracy_score\n",
    "accuracy_score(y_test,y_prediction)"
   ]
  },
  {
   "cell_type": "code",
   "execution_count": 32,
   "id": "7fa8fdc1-b2ee-47fa-8aba-5a747bcd402e",
   "metadata": {},
   "outputs": [
    {
     "data": {
      "image/png": "[encoded data removed]",
      "text/plain": [
       "<Figure size 640x480 with 1 Axes>"
      ]
     },
     "metadata": {},
     "output_type": "display_data"
    }
   ],
   "source": [
    "plt.plot(history.history['loss'])\n",
    "plt.plot(history.history['val_loss']);"
   ]
  },
  {
   "cell_type": "code",
   "execution_count": 33,
   "id": "a64501a1-795d-49de-8da7-1ec002ad8ddd",
   "metadata": {},
   "outputs": [
    {
     "data": {
      "image/png": "[encoded data removed]",
      "text/plain": [
       "<Figure size 640x480 with 1 Axes>"
      ]
     },
     "metadata": {},
     "output_type": "display_data"
    }
   ],
   "source": [
    "plt.plot(history.history['accuracy'])\n",
    "plt.plot(history.history['val_accuracy']);"
   ]
  },
  {
   "cell_type": "code",
   "execution_count": null,
   "id": "61f1da4b-6fa5-4947-86e7-c18409e8cfb2",
   "metadata": {},
   "outputs": [],
   "source": []
  }
 ],
 "metadata": {
  "kernelspec": {
   "display_name": "Python 3 (ipykernel)",
   "language": "python",
   "name": "python3"
  },
  "language_info": {
   "codemirror_mode": {
    "name": "ipython",
    "version": 3
   },
   "file_extension": ".py",
   "mimetype": "text/x-python",
   "name": "python",
   "nbconvert_exporter": "python",
   "pygments_lexer": "ipython3",
   "version": "3.8.19"
  },
  "widgets": {
   "application/vnd.jupyter.widget-state+json": {
    "state": {},
    "version_major": 2,
    "version_minor": 0
   }
  }
 },
 "nbformat": 4,
 "nbformat_minor": 5
}
